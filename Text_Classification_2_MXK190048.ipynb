{
  "nbformat": 4,
  "nbformat_minor": 0,
  "metadata": {
    "colab": {
      "provenance": []
    },
    "kernelspec": {
      "name": "python3",
      "display_name": "Python 3"
    },
    "language_info": {
      "name": "python"
    }
  },
  "cells": [
    {
      "cell_type": "markdown",
      "source": [
        "Meghana Kambhampati\n",
        "\n",
        "MXK190048\n",
        "\n",
        "Text Classification\n",
        "\n",
        "This notebook uses a data set and uses it to implement text classifications. First, a graph of the class distributions is made. Then a sequential model is created. Different architectures like RNN and CNN are evaluated on the test data. After that, embedding approaches are taken on the data. "
      ],
      "metadata": {
        "id": "Pp_H1XRVZpmA"
      }
    },
    {
      "cell_type": "code",
      "source": [
        "import pandas as pd\n",
        "import seaborn as sb\n",
        "from sklearn import datasets\n",
        "import tensorflow as tf\n",
        "from tensorflow.keras.preprocessing.text import Tokenizer\n",
        "from tensorflow.keras import datasets, layers, models, preprocessing\n",
        "from tensorflow.keras import layers, models\n",
        "from sklearn.preprocessing import LabelEncoder\n",
        "import numpy as np\n",
        "from tensorflow.keras.callbacks import EarlyStopping\n",
        "from sklearn.metrics import classification_report\n",
        "from sklearn.metrics import accuracy_score, precision_score, recall_score, f1_score"
      ],
      "metadata": {
        "id": "eNE5ALsvatLA"
      },
      "execution_count": 1,
      "outputs": []
    },
    {
      "cell_type": "markdown",
      "source": [
        "**Import data set**"
      ],
      "metadata": {
        "id": "9LT3TM_ufn8U"
      }
    },
    {
      "cell_type": "code",
      "source": [
        "from google.colab import files\n",
        "import io\n",
        "uploaded = files.upload()"
      ],
      "metadata": {
        "colab": {
          "base_uri": "https://localhost:8080/",
          "height": 73
        },
        "id": "JAXd0ctTao_1",
        "outputId": "8b22bd29-e954-40af-b400-5d3dc01aab37"
      },
      "execution_count": 2,
      "outputs": [
        {
          "output_type": "display_data",
          "data": {
            "text/plain": [
              "<IPython.core.display.HTML object>"
            ],
            "text/html": [
              "\n",
              "     <input type=\"file\" id=\"files-959457f3-fdf7-4719-ad76-bee2176502c9\" name=\"files[]\" multiple disabled\n",
              "        style=\"border:none\" />\n",
              "     <output id=\"result-959457f3-fdf7-4719-ad76-bee2176502c9\">\n",
              "      Upload widget is only available when the cell has been executed in the\n",
              "      current browser session. Please rerun this cell to enable.\n",
              "      </output>\n",
              "      <script>// Copyright 2017 Google LLC\n",
              "//\n",
              "// Licensed under the Apache License, Version 2.0 (the \"License\");\n",
              "// you may not use this file except in compliance with the License.\n",
              "// You may obtain a copy of the License at\n",
              "//\n",
              "//      http://www.apache.org/licenses/LICENSE-2.0\n",
              "//\n",
              "// Unless required by applicable law or agreed to in writing, software\n",
              "// distributed under the License is distributed on an \"AS IS\" BASIS,\n",
              "// WITHOUT WARRANTIES OR CONDITIONS OF ANY KIND, either express or implied.\n",
              "// See the License for the specific language governing permissions and\n",
              "// limitations under the License.\n",
              "\n",
              "/**\n",
              " * @fileoverview Helpers for google.colab Python module.\n",
              " */\n",
              "(function(scope) {\n",
              "function span(text, styleAttributes = {}) {\n",
              "  const element = document.createElement('span');\n",
              "  element.textContent = text;\n",
              "  for (const key of Object.keys(styleAttributes)) {\n",
              "    element.style[key] = styleAttributes[key];\n",
              "  }\n",
              "  return element;\n",
              "}\n",
              "\n",
              "// Max number of bytes which will be uploaded at a time.\n",
              "const MAX_PAYLOAD_SIZE = 100 * 1024;\n",
              "\n",
              "function _uploadFiles(inputId, outputId) {\n",
              "  const steps = uploadFilesStep(inputId, outputId);\n",
              "  const outputElement = document.getElementById(outputId);\n",
              "  // Cache steps on the outputElement to make it available for the next call\n",
              "  // to uploadFilesContinue from Python.\n",
              "  outputElement.steps = steps;\n",
              "\n",
              "  return _uploadFilesContinue(outputId);\n",
              "}\n",
              "\n",
              "// This is roughly an async generator (not supported in the browser yet),\n",
              "// where there are multiple asynchronous steps and the Python side is going\n",
              "// to poll for completion of each step.\n",
              "// This uses a Promise to block the python side on completion of each step,\n",
              "// then passes the result of the previous step as the input to the next step.\n",
              "function _uploadFilesContinue(outputId) {\n",
              "  const outputElement = document.getElementById(outputId);\n",
              "  const steps = outputElement.steps;\n",
              "\n",
              "  const next = steps.next(outputElement.lastPromiseValue);\n",
              "  return Promise.resolve(next.value.promise).then((value) => {\n",
              "    // Cache the last promise value to make it available to the next\n",
              "    // step of the generator.\n",
              "    outputElement.lastPromiseValue = value;\n",
              "    return next.value.response;\n",
              "  });\n",
              "}\n",
              "\n",
              "/**\n",
              " * Generator function which is called between each async step of the upload\n",
              " * process.\n",
              " * @param {string} inputId Element ID of the input file picker element.\n",
              " * @param {string} outputId Element ID of the output display.\n",
              " * @return {!Iterable<!Object>} Iterable of next steps.\n",
              " */\n",
              "function* uploadFilesStep(inputId, outputId) {\n",
              "  const inputElement = document.getElementById(inputId);\n",
              "  inputElement.disabled = false;\n",
              "\n",
              "  const outputElement = document.getElementById(outputId);\n",
              "  outputElement.innerHTML = '';\n",
              "\n",
              "  const pickedPromise = new Promise((resolve) => {\n",
              "    inputElement.addEventListener('change', (e) => {\n",
              "      resolve(e.target.files);\n",
              "    });\n",
              "  });\n",
              "\n",
              "  const cancel = document.createElement('button');\n",
              "  inputElement.parentElement.appendChild(cancel);\n",
              "  cancel.textContent = 'Cancel upload';\n",
              "  const cancelPromise = new Promise((resolve) => {\n",
              "    cancel.onclick = () => {\n",
              "      resolve(null);\n",
              "    };\n",
              "  });\n",
              "\n",
              "  // Wait for the user to pick the files.\n",
              "  const files = yield {\n",
              "    promise: Promise.race([pickedPromise, cancelPromise]),\n",
              "    response: {\n",
              "      action: 'starting',\n",
              "    }\n",
              "  };\n",
              "\n",
              "  cancel.remove();\n",
              "\n",
              "  // Disable the input element since further picks are not allowed.\n",
              "  inputElement.disabled = true;\n",
              "\n",
              "  if (!files) {\n",
              "    return {\n",
              "      response: {\n",
              "        action: 'complete',\n",
              "      }\n",
              "    };\n",
              "  }\n",
              "\n",
              "  for (const file of files) {\n",
              "    const li = document.createElement('li');\n",
              "    li.append(span(file.name, {fontWeight: 'bold'}));\n",
              "    li.append(span(\n",
              "        `(${file.type || 'n/a'}) - ${file.size} bytes, ` +\n",
              "        `last modified: ${\n",
              "            file.lastModifiedDate ? file.lastModifiedDate.toLocaleDateString() :\n",
              "                                    'n/a'} - `));\n",
              "    const percent = span('0% done');\n",
              "    li.appendChild(percent);\n",
              "\n",
              "    outputElement.appendChild(li);\n",
              "\n",
              "    const fileDataPromise = new Promise((resolve) => {\n",
              "      const reader = new FileReader();\n",
              "      reader.onload = (e) => {\n",
              "        resolve(e.target.result);\n",
              "      };\n",
              "      reader.readAsArrayBuffer(file);\n",
              "    });\n",
              "    // Wait for the data to be ready.\n",
              "    let fileData = yield {\n",
              "      promise: fileDataPromise,\n",
              "      response: {\n",
              "        action: 'continue',\n",
              "      }\n",
              "    };\n",
              "\n",
              "    // Use a chunked sending to avoid message size limits. See b/62115660.\n",
              "    let position = 0;\n",
              "    do {\n",
              "      const length = Math.min(fileData.byteLength - position, MAX_PAYLOAD_SIZE);\n",
              "      const chunk = new Uint8Array(fileData, position, length);\n",
              "      position += length;\n",
              "\n",
              "      const base64 = btoa(String.fromCharCode.apply(null, chunk));\n",
              "      yield {\n",
              "        response: {\n",
              "          action: 'append',\n",
              "          file: file.name,\n",
              "          data: base64,\n",
              "        },\n",
              "      };\n",
              "\n",
              "      let percentDone = fileData.byteLength === 0 ?\n",
              "          100 :\n",
              "          Math.round((position / fileData.byteLength) * 100);\n",
              "      percent.textContent = `${percentDone}% done`;\n",
              "\n",
              "    } while (position < fileData.byteLength);\n",
              "  }\n",
              "\n",
              "  // All done.\n",
              "  yield {\n",
              "    response: {\n",
              "      action: 'complete',\n",
              "    }\n",
              "  };\n",
              "}\n",
              "\n",
              "scope.google = scope.google || {};\n",
              "scope.google.colab = scope.google.colab || {};\n",
              "scope.google.colab._files = {\n",
              "  _uploadFiles,\n",
              "  _uploadFilesContinue,\n",
              "};\n",
              "})(self);\n",
              "</script> "
            ]
          },
          "metadata": {}
        },
        {
          "output_type": "stream",
          "name": "stdout",
          "text": [
            "Saving Emotion_final.csv to Emotion_final.csv\n"
          ]
        }
      ]
    },
    {
      "cell_type": "code",
      "source": [
        "# load data set\n",
        "df = pd.read_csv(io.StringIO(uploaded['Emotion_final.csv'].decode('utf-8')), header=0, encoding='latin-1')"
      ],
      "metadata": {
        "id": "grJt-ZAIasWb"
      },
      "execution_count": 3,
      "outputs": []
    },
    {
      "cell_type": "markdown",
      "source": [
        "**Divide into Train and Test Sets**"
      ],
      "metadata": {
        "id": "_kVC7sGefx-C"
      }
    },
    {
      "cell_type": "code",
      "source": [
        "# divide into train and test sets\n",
        "np.random.seed(1234)\n",
        "i = np.random.rand(len(df)) < 0.8\n",
        "train = df[i]\n",
        "test = df[~i]\n",
        "print(\"train data size: \", train.shape)\n",
        "print(\"test data size: \", test.shape)"
      ],
      "metadata": {
        "colab": {
          "base_uri": "https://localhost:8080/",
          "height": 0
        },
        "id": "gS5qCQwYbFPp",
        "outputId": "37651435-b463-497f-fa52-cab38c349aa0"
      },
      "execution_count": 4,
      "outputs": [
        {
          "output_type": "stream",
          "name": "stdout",
          "text": [
            "train data size:  (17171, 2)\n",
            "test data size:  (4288, 2)\n"
          ]
        }
      ]
    },
    {
      "cell_type": "markdown",
      "source": [
        "**Graph of Class Distributions**"
      ],
      "metadata": {
        "id": "VDUrlK2WaiJm"
      }
    },
    {
      "cell_type": "markdown",
      "source": [
        "The class distribution graph will be made with Seaborn, a Python package used for data display. The graph will show how each piece of data is categorized in the data set. Each class represents an emotion: \"happiness,\" \"sadness,\" \"anger,\" \"love,\" \"surprise,\" and \"fear.\""
      ],
      "metadata": {
        "id": "6WE51Ov9acH0"
      }
    },
    {
      "cell_type": "code",
      "source": [
        "# class distribution\n",
        "X = df.Text\n",
        "y = df.Emotion\n",
        "\n",
        "df = pd.DataFrame(X, columns=df.Text)\n",
        "df_y = pd.DataFrame(y, columns=['Emotion'])\n",
        "\n",
        "# create categorical graph\n",
        "sb.catplot(x=\"Emotion\", kind='count', data=df_y)"
      ],
      "metadata": {
        "colab": {
          "base_uri": "https://localhost:8080/",
          "height": 523
        },
        "id": "ZvUtG-OgfbtO",
        "outputId": "e9ca7107-e788-46a7-9bc6-0ef456594037"
      },
      "execution_count": 5,
      "outputs": [
        {
          "output_type": "execute_result",
          "data": {
            "text/plain": [
              "<seaborn.axisgrid.FacetGrid at 0x7fdab5916be0>"
            ]
          },
          "metadata": {},
          "execution_count": 5
        },
        {
          "output_type": "display_data",
          "data": {
            "text/plain": [
              "<Figure size 500x500 with 1 Axes>"
            ],
            "image/png": "[encoded data removed]"
          },
          "metadata": {}
        }
      ]
    },
    {
      "cell_type": "markdown",
      "source": [
        "The graph shows that there is an unequal distribution of emotions based on the given pieces of text. \"Happy\" has the most instances, while \"surprise\" has the least."
      ],
      "metadata": {
        "id": "X3IMTakcrMxH"
      }
    },
    {
      "cell_type": "markdown",
      "source": [
        "This model should be able to predict what emotion a (small) piece of text is expressing."
      ],
      "metadata": {
        "id": "iQwbwqC-rNV1"
      }
    },
    {
      "cell_type": "markdown",
      "source": [
        "**Sequential Model**"
      ],
      "metadata": {
        "id": "HNNDwwePrbuY"
      }
    },
    {
      "cell_type": "markdown",
      "source": [
        "This is often used as a first, general approach to a deep learning problem. It is made up of a stack of layers with one input and one output tensor. "
      ],
      "metadata": {
        "id": "gZs_98rrwfH4"
      }
    },
    {
      "cell_type": "code",
      "source": [
        "num_labels = 6\n",
        "vocab_size = 10000\n",
        "\n",
        "tokenizer = Tokenizer(num_words=vocab_size)\n",
        "tokenizer.fit_on_texts(train.Text)\n",
        "\n",
        "x_train = tokenizer.texts_to_matrix(train.Text, mode='tfidf')\n",
        "x_test = tokenizer.texts_to_matrix(test.Text, mode='tfidf')\n",
        "\n",
        "encoder = LabelEncoder()\n",
        "encoder.fit(train.Emotion)\n",
        "y_train = encoder.transform(train.Emotion)\n",
        "y_train = tf.keras.utils.to_categorical(y_train, num_classes=num_labels)\n",
        "y_test = encoder.transform(test.Emotion)\n",
        "y_test = tf.keras.utils.to_categorical(y_test, num_classes=num_labels)\n",
        "\n",
        "print(\"train shapes:\", x_train.shape, y_train.shape)\n",
        "print(\"test shapes:\", x_test.shape, y_test.shape)"
      ],
      "metadata": {
        "colab": {
          "base_uri": "https://localhost:8080/",
          "height": 0
        },
        "id": "EvWCwWYgquZ3",
        "outputId": "5aff83e2-fce1-40ae-ef1c-c46bc4fef4b0"
      },
      "execution_count": 6,
      "outputs": [
        {
          "output_type": "stream",
          "name": "stdout",
          "text": [
            "train shapes: (17171, 10000) (17171, 6)\n",
            "test shapes: (4288, 10000) (4288, 6)\n"
          ]
        }
      ]
    },
    {
      "cell_type": "code",
      "source": [
        "# to avoid overfitting\n",
        "early_stopping = EarlyStopping(\n",
        "    min_delta=0.001,\n",
        "    patience=4,    \n",
        "    restore_best_weights=True,\n",
        ")"
      ],
      "metadata": {
        "id": "LRAUANQufrad"
      },
      "execution_count": 7,
      "outputs": []
    },
    {
      "cell_type": "code",
      "source": [
        "x_val = x_train[:10000]\n",
        "partial_x_train = x_train[10000:]\n",
        "\n",
        "y_val = y_train[:10000]\n",
        "partial_y_train = y_train[10000:]"
      ],
      "metadata": {
        "id": "RiNQvIOEaJ5V"
      },
      "execution_count": 8,
      "outputs": []
    },
    {
      "cell_type": "code",
      "source": [
        "model = models.Sequential()\n",
        "model.add(layers.Dense(46, input_dim=x_train.shape[1], activation='relu'))\n",
        "model.add(layers.Dense(num_labels, activation='softmax'))\n",
        "\n",
        "model.compile(\n",
        "    loss=\"categorical_crossentropy\", \n",
        "    optimizer=\"adam\", \n",
        "    metrics=[\"acc\"]\n",
        ")\n",
        "history=model.fit(x_train, \n",
        "          y_train, \n",
        "          batch_size=128, \n",
        "          callbacks=[early_stopping], \n",
        "          validation_data=(x_val, y_val))"
      ],
      "metadata": {
        "colab": {
          "base_uri": "https://localhost:8080/",
          "height": 0
        },
        "id": "s4c2l4GVh01h",
        "outputId": "28bf1f84-00f3-4a08-f399-f59839e0397d"
      },
      "execution_count": 9,
      "outputs": [
        {
          "output_type": "stream",
          "name": "stdout",
          "text": [
            "135/135 [==============================] - 4s 24ms/step - loss: 1.0449 - acc: 0.6686 - val_loss: 0.2641 - val_acc: 0.9490\n"
          ]
        }
      ]
    },
    {
      "cell_type": "code",
      "source": [
        "score = model.evaluate(x_test, y_test)\n",
        "print('Accuracy: ', score[1])\n",
        "print(score)"
      ],
      "metadata": {
        "colab": {
          "base_uri": "https://localhost:8080/",
          "height": 0
        },
        "id": "YE6lvY0sQxS-",
        "outputId": "a42241f5-349d-4d0b-83ea-757e589e448d"
      },
      "execution_count": 10,
      "outputs": [
        {
          "output_type": "stream",
          "name": "stdout",
          "text": [
            "134/134 [==============================] - 0s 3ms/step - loss: 0.4981 - acc: 0.8601\n",
            "Accuracy:  0.8600746393203735\n",
            "[0.49805355072021484, 0.8600746393203735]\n"
          ]
        }
      ]
    },
    {
      "cell_type": "markdown",
      "source": [
        "The accuracy of this model peaked at around 85-86%, which is a little disappointing. In general, choosing a smaller batch size and larger unit size and vocab size improved performance. I had to adjust each variable separately to find the optimal values. The sequential model "
      ],
      "metadata": {
        "id": "jp8m8eTSmDOJ"
      }
    },
    {
      "cell_type": "markdown",
      "source": [
        "**Recurrent Neural Network (RNN)**"
      ],
      "metadata": {
        "id": "9pxbzlTdRgfs"
      }
    },
    {
      "cell_type": "markdown",
      "source": [
        "RNNs are usually used with text data (or time series data), which matches this data set well. They have states or meomory that allow for the processing of sequences. This creates hidden states within steps. Keras has three RNN types: SimpleRNN, LSTM, and GRU. Here, I use SimpleRNN."
      ],
      "metadata": {
        "id": "N7qV9FdwRk52"
      }
    },
    {
      "cell_type": "code",
      "source": [
        "max_features = 21460\n",
        "\n",
        "model2 = models.Sequential()\n",
        "model2.add(layers.Embedding(input_dim=max_features, output_dim=32))\n",
        "model2.add(layers.SimpleRNN(32)) \n",
        "model2.add(layers.Dense(6, activation='softmax'))\n",
        "\n",
        "model2.summary()"
      ],
      "metadata": {
        "id": "S-Qo1iPJ6XXm",
        "colab": {
          "base_uri": "https://localhost:8080/",
          "height": 0
        },
        "outputId": "526165c0-2583-48ba-8aa6-015cb5000427"
      },
      "execution_count": 11,
      "outputs": [
        {
          "output_type": "stream",
          "name": "stdout",
          "text": [
            "Model: \"sequential_1\"\n",
            "_________________________________________________________________\n",
            " Layer (type)                Output Shape              Param #   \n",
            "=================================================================\n",
            " embedding (Embedding)       (None, None, 32)          686720    \n",
            "                                                                 \n",
            " simple_rnn (SimpleRNN)      (None, 32)                2080      \n",
            "                                                                 \n",
            " dense_2 (Dense)             (None, 6)                 198       \n",
            "                                                                 \n",
            "=================================================================\n",
            "Total params: 688,998\n",
            "Trainable params: 688,998\n",
            "Non-trainable params: 0\n",
            "_________________________________________________________________\n"
          ]
        }
      ]
    },
    {
      "cell_type": "code",
      "source": [
        "model2.compile(\n",
        "    loss=\"categorical_crossentropy\", \n",
        "    optimizer=\"rmsprop\", \n",
        "    metrics=['accuracy']\n",
        ")"
      ],
      "metadata": {
        "id": "ceCIRPidRF7Q"
      },
      "execution_count": 12,
      "outputs": []
    },
    {
      "cell_type": "code",
      "source": [
        "history = model2.fit(partial_x_train,\n",
        "                    partial_y_train,\n",
        "                    epochs=10,\n",
        "                    batch_size=512,\n",
        "                    validation_data=(x_val, y_val))"
      ],
      "metadata": {
        "colab": {
          "base_uri": "https://localhost:8080/",
          "height": 0
        },
        "id": "WdEcnNrZRTBl",
        "outputId": "2350448e-1a63-4b70-f57d-744a6905fef1"
      },
      "execution_count": 13,
      "outputs": [
        {
          "output_type": "stream",
          "name": "stdout",
          "text": [
            "Epoch 1/10\n",
            "15/15 [==============================] - 312s 21s/step - loss: 1.6086 - accuracy: 0.3159 - val_loss: 1.5976 - val_accuracy: 0.3414\n",
            "Epoch 2/10\n",
            "15/15 [==============================] - 346s 23s/step - loss: 1.5945 - accuracy: 0.3159 - val_loss: 1.5937 - val_accuracy: 0.3415\n",
            "Epoch 3/10\n",
            "15/15 [==============================] - 353s 24s/step - loss: 1.5968 - accuracy: 0.3159 - val_loss: 1.5887 - val_accuracy: 0.2879\n",
            "Epoch 4/10\n",
            "15/15 [==============================] - 318s 21s/step - loss: 1.5937 - accuracy: 0.3069 - val_loss: 1.5834 - val_accuracy: 0.3415\n",
            "Epoch 5/10\n",
            "15/15 [==============================] - 353s 24s/step - loss: 1.5941 - accuracy: 0.3159 - val_loss: 1.5803 - val_accuracy: 0.3415\n",
            "Epoch 6/10\n",
            "15/15 [==============================] - 366s 24s/step - loss: 1.5936 - accuracy: 0.3156 - val_loss: 1.5797 - val_accuracy: 0.3415\n",
            "Epoch 7/10\n",
            "15/15 [==============================] - 357s 24s/step - loss: 1.5938 - accuracy: 0.3159 - val_loss: 1.5843 - val_accuracy: 0.3415\n",
            "Epoch 8/10\n",
            "15/15 [==============================] - 361s 24s/step - loss: 1.5953 - accuracy: 0.3159 - val_loss: 1.5792 - val_accuracy: 0.3415\n",
            "Epoch 9/10\n",
            "15/15 [==============================] - 357s 24s/step - loss: 1.5933 - accuracy: 0.3174 - val_loss: 1.5881 - val_accuracy: 0.2882\n",
            "Epoch 10/10\n",
            "15/15 [==============================] - 359s 24s/step - loss: 1.5934 - accuracy: 0.3092 - val_loss: 1.5882 - val_accuracy: 0.2883\n"
          ]
        }
      ]
    },
    {
      "cell_type": "markdown",
      "source": [
        "This took a long time to train, much longer than the sequential model."
      ],
      "metadata": {
        "id": "kI0jygh-9yVU"
      }
    },
    {
      "cell_type": "code",
      "source": [
        "score = model2.evaluate(x_test, y_test)\n",
        "print('Accuracy: ', score[1])\n",
        "print(score)"
      ],
      "metadata": {
        "colab": {
          "base_uri": "https://localhost:8080/",
          "height": 0
        },
        "id": "DabJroDrScdt",
        "outputId": "66981f32-fe69-4de5-8301-e45c766ef78b"
      },
      "execution_count": 14,
      "outputs": [
        {
          "output_type": "stream",
          "name": "stdout",
          "text": [
            "134/134 [==============================] - 68s 510ms/step - loss: 1.6135 - accuracy: 0.2887\n",
            "Accuracy:  0.28871268033981323\n",
            "[1.6135189533233643, 0.28871268033981323]\n"
          ]
        }
      ]
    },
    {
      "cell_type": "code",
      "source": [
        "import matplotlib.pyplot as plt\n",
        "loss = history.history['loss']\n",
        "val_loss = history.history['val_loss']\n",
        "\n",
        "epochs = range(len(loss))\n",
        "\n",
        "plt.figure()\n",
        "\n",
        "plt.plot(epochs, loss, 'bo', label='Training loss')\n",
        "plt.plot(epochs, val_loss, 'b', label='Validation loss')\n",
        "plt.title('Training and validation loss')\n",
        "plt.legend()\n",
        "\n",
        "plt.show()"
      ],
      "metadata": {
        "colab": {
          "base_uri": "https://localhost:8080/",
          "height": 452
        },
        "id": "5Vfy322McpgJ",
        "outputId": "e175e25b-b2d4-4adb-f45d-5f52f9ba5b50"
      },
      "execution_count": 15,
      "outputs": [
        {
          "output_type": "display_data",
          "data": {
            "text/plain": [
              "<Figure size 640x480 with 1 Axes>"
            ],
            "image/png": "[encoded data removed]"
          },
          "metadata": {}
        }
      ]
    },
    {
      "cell_type": "markdown",
      "source": [
        "The accuracy on this attempt was very low. The training also took a surprisingly long time. The validation loss is all over the place here. "
      ],
      "metadata": {
        "id": "YQyIwdM54Jow"
      }
    },
    {
      "cell_type": "code",
      "source": [
        "plt.clf()   \n",
        "\n",
        "acc = history.history['accuracy']\n",
        "val_acc = history.history['val_accuracy']\n",
        "\n",
        "plt.plot(epochs, acc, 'bo', label='Training acc')\n",
        "plt.plot(epochs, val_acc, 'b', label='Validation acc')\n",
        "plt.title('Training and validation accuracy')\n",
        "plt.xlabel('Epochs')\n",
        "plt.ylabel('Accuracy')\n",
        "plt.legend()\n",
        "\n",
        "plt.show()"
      ],
      "metadata": {
        "colab": {
          "base_uri": "https://localhost:8080/",
          "height": 472
        },
        "id": "u7qnwSE49f6e",
        "outputId": "f377d828-c7b2-4963-ad24-cb519ebb2dbf"
      },
      "execution_count": 16,
      "outputs": [
        {
          "output_type": "display_data",
          "data": {
            "text/plain": [
              "<Figure size 640x480 with 1 Axes>"
            ],
            "image/png": "[encoded data removed]"
          },
          "metadata": {}
        }
      ]
    },
    {
      "cell_type": "markdown",
      "source": [
        "The validation accuracy is confusing to say the least. The accuracy did not improve over the course of the ten epochs for some reason. The validation accuracy is confusing to say the least. The accuracy did not improve over the course of the ten epochs for some reason. "
      ],
      "metadata": {
        "id": "l_yoL8Zg9iTW"
      }
    },
    {
      "cell_type": "markdown",
      "source": [
        "Implementing an early stop mechanism may help."
      ],
      "metadata": {
        "id": "lBRVnvJGEOr3"
      }
    },
    {
      "cell_type": "code",
      "source": [
        "history = model2.fit(partial_x_train,\n",
        "                    partial_y_train,\n",
        "                    callbacks=[early_stopping],\n",
        "                    batch_size=512,\n",
        "                    validation_data=(x_val, y_val))"
      ],
      "metadata": {
        "colab": {
          "base_uri": "https://localhost:8080/",
          "height": 0
        },
        "id": "iSd8Tpy2_JNo",
        "outputId": "6103b64a-4c49-4154-8aeb-cf571c88dff5"
      },
      "execution_count": 17,
      "outputs": [
        {
          "output_type": "stream",
          "name": "stdout",
          "text": [
            "15/15 [==============================] - 366s 25s/step - loss: 1.5947 - accuracy: 0.3039 - val_loss: 1.5794 - val_accuracy: 0.3415\n"
          ]
        }
      ]
    },
    {
      "cell_type": "code",
      "source": [
        "score = model2.evaluate(x_test, y_test)\n",
        "print('Accuracy: ', score[1])\n",
        "print(score)"
      ],
      "metadata": {
        "colab": {
          "base_uri": "https://localhost:8080/",
          "height": 0
        },
        "id": "kRtgo99N_Pmp",
        "outputId": "bf3cb76e-3fdb-4204-bfa6-778d1ff3bfe4"
      },
      "execution_count": 18,
      "outputs": [
        {
          "output_type": "stream",
          "name": "stdout",
          "text": [
            "134/134 [==============================] - 64s 477ms/step - loss: 1.6208 - accuracy: 0.3146\n",
            "Accuracy:  0.3145988881587982\n",
            "[1.620800256729126, 0.3145988881587982]\n"
          ]
        }
      ]
    },
    {
      "cell_type": "markdown",
      "source": [
        "Including early stopping does not offer any improvement at all. :("
      ],
      "metadata": {
        "id": "go63lH3oEEx6"
      }
    },
    {
      "cell_type": "markdown",
      "source": [
        "**Convolutional Neural Network (CNN)**"
      ],
      "metadata": {
        "id": "szrC1Mde6txW"
      }
    },
    {
      "cell_type": "markdown",
      "source": [
        "CNNs are also often used with text data. This model learns in small windows, allowing it to recognize spatial hierarchies. Padding corrects tensor shapes and maxpooling reduces the number of parameters to learn."
      ],
      "metadata": {
        "id": "FQPauLEV7MA1"
      }
    },
    {
      "cell_type": "code",
      "source": [],
      "metadata": {
        "id": "ObVyqTY38Nzs"
      },
      "execution_count": 18,
      "outputs": []
    },
    {
      "cell_type": "code",
      "source": [
        "model3 = models.Sequential()\n",
        "model3.add(layers.Embedding(max_features, 128, input_length=10000)) \n",
        "model3.add(layers.Conv1D(32, 7, activation='relu')) \n",
        "model3.add(layers.MaxPooling1D(4)) \n",
        "model3.add(layers.Conv1D(32, 7, activation='relu')) \n",
        "model3.add(layers.GlobalMaxPooling1D())\n",
        "model3.add(layers.Dense(6))\n",
        "\n",
        "model3.summary()"
      ],
      "metadata": {
        "id": "PdGDlRIW7esi",
        "colab": {
          "base_uri": "https://localhost:8080/",
          "height": 0
        },
        "outputId": "521f5693-94bc-41db-8249-411195146b74"
      },
      "execution_count": 19,
      "outputs": [
        {
          "output_type": "stream",
          "name": "stdout",
          "text": [
            "Model: \"sequential_2\"\n",
            "_________________________________________________________________\n",
            " Layer (type)                Output Shape              Param #   \n",
            "=================================================================\n",
            " embedding_1 (Embedding)     (None, 10000, 128)        2746880   \n",
            "                                                                 \n",
            " conv1d (Conv1D)             (None, 9994, 32)          28704     \n",
            "                                                                 \n",
            " max_pooling1d (MaxPooling1D  (None, 2498, 32)         0         \n",
            " )                                                               \n",
            "                                                                 \n",
            " conv1d_1 (Conv1D)           (None, 2492, 32)          7200      \n",
            "                                                                 \n",
            " global_max_pooling1d (Globa  (None, 32)               0         \n",
            " lMaxPooling1D)                                                  \n",
            "                                                                 \n",
            " dense_3 (Dense)             (None, 6)                 198       \n",
            "                                                                 \n",
            "=================================================================\n",
            "Total params: 2,782,982\n",
            "Trainable params: 2,782,982\n",
            "Non-trainable params: 0\n",
            "_________________________________________________________________\n"
          ]
        }
      ]
    },
    {
      "cell_type": "code",
      "source": [
        "model3.compile(optimizer=tf.keras.optimizers.RMSprop(lr=1e-4), \n",
        "              loss='categorical_crossentropy',\n",
        "              metrics=['accuracy'])\n",
        "\n",
        "history = model3.fit(partial_x_train,\n",
        "                    partial_y_train,\n",
        "                    epochs=10,\n",
        "                    batch_size=128,\n",
        "                    validation_data=(x_val, y_val))"
      ],
      "metadata": {
        "id": "A-xHVTUA7jpS",
        "colab": {
          "base_uri": "https://localhost:8080/",
          "height": 0
        },
        "outputId": "3615d150-be59-4edc-ca98-1d63284f22cc"
      },
      "execution_count": 20,
      "outputs": [
        {
          "metadata": {
            "tags": null
          },
          "name": "stderr",
          "output_type": "stream",
          "text": [
            "WARNING:absl:`lr` is deprecated in Keras optimizer, please use `learning_rate` or use the legacy optimizer, e.g.,tf.keras.optimizers.legacy.RMSprop.\n"
          ]
        },
        {
          "output_type": "stream",
          "name": "stdout",
          "text": [
            "Epoch 1/10\n",
            "57/57 [==============================] - 739s 13s/step - loss: 6.3976 - accuracy: 0.3159 - val_loss: 6.0411 - val_accuracy: 0.3415\n",
            "Epoch 2/10\n",
            "57/57 [==============================] - 701s 12s/step - loss: 6.2845 - accuracy: 0.3159 - val_loss: 6.0411 - val_accuracy: 0.3415\n",
            "Epoch 3/10\n",
            "57/57 [==============================] - 748s 13s/step - loss: 6.2845 - accuracy: 0.3159 - val_loss: 6.0411 - val_accuracy: 0.3415\n",
            "Epoch 4/10\n",
            "57/57 [==============================] - 738s 13s/step - loss: 6.2845 - accuracy: 0.3159 - val_loss: 6.0411 - val_accuracy: 0.3415\n",
            "Epoch 5/10\n",
            "57/57 [==============================] - 737s 13s/step - loss: 6.2845 - accuracy: 0.3159 - val_loss: 6.0411 - val_accuracy: 0.3415\n",
            "Epoch 6/10\n",
            "57/57 [==============================] - 742s 13s/step - loss: 6.2845 - accuracy: 0.3159 - val_loss: 6.0411 - val_accuracy: 0.3415\n",
            "Epoch 7/10\n",
            "57/57 [==============================] - 728s 13s/step - loss: 6.2845 - accuracy: 0.3159 - val_loss: 6.0411 - val_accuracy: 0.3415\n",
            "Epoch 8/10\n",
            "57/57 [==============================] - 737s 13s/step - loss: 6.2845 - accuracy: 0.3159 - val_loss: 6.0411 - val_accuracy: 0.3415\n",
            "Epoch 9/10\n",
            "57/57 [==============================] - 737s 13s/step - loss: 6.2845 - accuracy: 0.3159 - val_loss: 6.0411 - val_accuracy: 0.3415\n",
            "Epoch 10/10\n",
            "57/57 [==============================] - 724s 13s/step - loss: 6.2845 - accuracy: 0.3159 - val_loss: 6.0411 - val_accuracy: 0.3415\n"
          ]
        }
      ]
    },
    {
      "cell_type": "code",
      "source": [
        "score = model3.evaluate(x_test, y_test)\n",
        "print('Accuracy: ', score[1])\n",
        "print(score)"
      ],
      "metadata": {
        "colab": {
          "base_uri": "https://localhost:8080/",
          "height": 0
        },
        "id": "t1V1pn8Zwj9R",
        "outputId": "a2757d38-7375-462f-a1f3-6588a613f6eb"
      },
      "execution_count": 21,
      "outputs": [
        {
          "output_type": "stream",
          "name": "stdout",
          "text": [
            "134/134 [==============================] - 67s 503ms/step - loss: 6.4502 - accuracy: 0.3146\n",
            "Accuracy:  0.3145988881587982\n",
            "[6.450246810913086, 0.3145988881587982]\n"
          ]
        }
      ]
    },
    {
      "cell_type": "markdown",
      "source": [
        "**Embeddings**"
      ],
      "metadata": {
        "id": "cVw3PjNa8Oz_"
      }
    },
    {
      "cell_type": "markdown",
      "source": [
        "There are many different embedding types. Context-free embeddings create representations for specific words in the vocabulary. Contextual embeddings, on the other hand, use the context of words. "
      ],
      "metadata": {
        "id": "-Jk4-GrC8Rpz"
      }
    },
    {
      "cell_type": "code",
      "source": [
        "model4 = models.Sequential()\n",
        "model4.add(layers.Embedding(max_features, 8, input_length=10000))\n",
        "model4.add(layers.Flatten())\n",
        "model4.add(layers.Dense(16, activation='relu'))\n",
        "model4.add(layers.Dense(6, activation='sigmoid'))\n",
        "\n",
        "model4.compile(optimizer='rmsprop', \n",
        "               loss='categorical_crossentropy', \n",
        "               metrics=['acc'])\n",
        "model4.summary()\n",
        "\n",
        "history = model4.fit(x_train,\n",
        "                     y_train, \n",
        "                     epochs=10, \n",
        "                     batch_size=32)"
      ],
      "metadata": {
        "id": "dDSg6G7E8dSO",
        "colab": {
          "base_uri": "https://localhost:8080/",
          "height": 0
        },
        "outputId": "8e69aa62-d2da-4d89-fb63-7f662d0d59ef"
      },
      "execution_count": 24,
      "outputs": [
        {
          "output_type": "stream",
          "name": "stdout",
          "text": [
            "Model: \"sequential_3\"\n",
            "_________________________________________________________________\n",
            " Layer (type)                Output Shape              Param #   \n",
            "=================================================================\n",
            " embedding_2 (Embedding)     (None, 10000, 8)          171680    \n",
            "                                                                 \n",
            " flatten (Flatten)           (None, 80000)             0         \n",
            "                                                                 \n",
            " dense_4 (Dense)             (None, 16)                1280016   \n",
            "                                                                 \n",
            " dense_5 (Dense)             (None, 6)                 102       \n",
            "                                                                 \n",
            "=================================================================\n",
            "Total params: 1,451,798\n",
            "Trainable params: 1,451,798\n",
            "Non-trainable params: 0\n",
            "_________________________________________________________________\n",
            "Epoch 1/10\n",
            "537/537 [==============================] - 20s 36ms/step - loss: 1.7099 - acc: 0.3226\n",
            "Epoch 2/10\n",
            "537/537 [==============================] - 19s 34ms/step - loss: 1.6043 - acc: 0.3308\n",
            "Epoch 3/10\n",
            "537/537 [==============================] - 19s 36ms/step - loss: 1.5847 - acc: 0.3308\n",
            "Epoch 4/10\n",
            "537/537 [==============================] - 18s 34ms/step - loss: 1.5816 - acc: 0.3308\n",
            "Epoch 5/10\n",
            "537/537 [==============================] - 19s 36ms/step - loss: 1.5810 - acc: 0.3308\n",
            "Epoch 6/10\n",
            "537/537 [==============================] - 18s 34ms/step - loss: 1.5809 - acc: 0.3308\n",
            "Epoch 7/10\n",
            "537/537 [==============================] - 19s 36ms/step - loss: 1.5808 - acc: 0.3308\n",
            "Epoch 8/10\n",
            "537/537 [==============================] - 18s 33ms/step - loss: 1.5809 - acc: 0.3308\n",
            "Epoch 9/10\n",
            "537/537 [==============================] - 19s 36ms/step - loss: 1.5809 - acc: 0.3308\n",
            "Epoch 10/10\n",
            "537/537 [==============================] - 18s 34ms/step - loss: 1.5809 - acc: 0.3308\n"
          ]
        }
      ]
    },
    {
      "cell_type": "code",
      "source": [
        "score = model3.evaluate(x_test, y_test)\n",
        "print('Accuracy: ', score[1])\n",
        "print(score)"
      ],
      "metadata": {
        "colab": {
          "base_uri": "https://localhost:8080/",
          "height": 0
        },
        "id": "f87OWG8Y2chU",
        "outputId": "51a954f3-cf9e-4a09-c210-bc82a46bf520"
      },
      "execution_count": 25,
      "outputs": [
        {
          "output_type": "stream",
          "name": "stdout",
          "text": [
            "134/134 [==============================] - 68s 508ms/step - loss: 6.4502 - accuracy: 0.3146\n",
            "Accuracy:  0.3145988881587982\n",
            "[6.450246810913086, 0.3145988881587982]\n"
          ]
        }
      ]
    },
    {
      "cell_type": "markdown",
      "source": [
        "Overall, these deep learning techniques did a poor job of accurately predicting the emotion of a piece of text. Not only were the accuracy and loss very bad, but the model training took way too long, regardless of what settings were changed. Varying the number of epochs showed no improvement. The sequential model showed the best results while everything else was not good. Further testing could include different preprocessing, embeddings, and model layers to try to improve results."
      ],
      "metadata": {
        "id": "zyguTFFjFP1V"
      }
    }
  ]
}